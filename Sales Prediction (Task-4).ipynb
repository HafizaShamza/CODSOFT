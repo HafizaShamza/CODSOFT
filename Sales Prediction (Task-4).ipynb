{
 "cells": [
  {
   "cell_type": "code",
   "execution_count": 71,
   "id": "8d1bf574",
   "metadata": {},
   "outputs": [],
   "source": [
    "import pandas as pd\n",
    "import numpy as np\n",
    "from sklearn.model_selection import train_test_split\n",
    "from sklearn.linear_model import LinearRegression\n",
    "import matplotlib.pyplot as plt"
   ]
  },
  {
   "cell_type": "code",
   "execution_count": 72,
   "id": "6cf08b36",
   "metadata": {},
   "outputs": [
    {
     "data": {
      "text/html": [
       "<div>\n",
       "<style scoped>\n",
       "    .dataframe tbody tr th:only-of-type {\n",
       "        vertical-align: middle;\n",
       "    }\n",
       "\n",
       "    .dataframe tbody tr th {\n",
       "        vertical-align: top;\n",
       "    }\n",
       "\n",
       "    .dataframe thead th {\n",
       "        text-align: right;\n",
       "    }\n",
       "</style>\n",
       "<table border=\"1\" class=\"dataframe\">\n",
       "  <thead>\n",
       "    <tr style=\"text-align: right;\">\n",
       "      <th></th>\n",
       "      <th>TV</th>\n",
       "      <th>Radio</th>\n",
       "      <th>Newspaper</th>\n",
       "      <th>Sales</th>\n",
       "    </tr>\n",
       "  </thead>\n",
       "  <tbody>\n",
       "    <tr>\n",
       "      <th>0</th>\n",
       "      <td>230.1</td>\n",
       "      <td>37.8</td>\n",
       "      <td>69.2</td>\n",
       "      <td>22.1</td>\n",
       "    </tr>\n",
       "    <tr>\n",
       "      <th>1</th>\n",
       "      <td>44.5</td>\n",
       "      <td>39.3</td>\n",
       "      <td>45.1</td>\n",
       "      <td>10.4</td>\n",
       "    </tr>\n",
       "    <tr>\n",
       "      <th>2</th>\n",
       "      <td>17.2</td>\n",
       "      <td>45.9</td>\n",
       "      <td>69.3</td>\n",
       "      <td>12.0</td>\n",
       "    </tr>\n",
       "    <tr>\n",
       "      <th>3</th>\n",
       "      <td>151.5</td>\n",
       "      <td>41.3</td>\n",
       "      <td>58.5</td>\n",
       "      <td>16.5</td>\n",
       "    </tr>\n",
       "    <tr>\n",
       "      <th>4</th>\n",
       "      <td>180.8</td>\n",
       "      <td>10.8</td>\n",
       "      <td>58.4</td>\n",
       "      <td>17.9</td>\n",
       "    </tr>\n",
       "    <tr>\n",
       "      <th>...</th>\n",
       "      <td>...</td>\n",
       "      <td>...</td>\n",
       "      <td>...</td>\n",
       "      <td>...</td>\n",
       "    </tr>\n",
       "    <tr>\n",
       "      <th>195</th>\n",
       "      <td>38.2</td>\n",
       "      <td>3.7</td>\n",
       "      <td>13.8</td>\n",
       "      <td>7.6</td>\n",
       "    </tr>\n",
       "    <tr>\n",
       "      <th>196</th>\n",
       "      <td>94.2</td>\n",
       "      <td>4.9</td>\n",
       "      <td>8.1</td>\n",
       "      <td>14.0</td>\n",
       "    </tr>\n",
       "    <tr>\n",
       "      <th>197</th>\n",
       "      <td>177.0</td>\n",
       "      <td>9.3</td>\n",
       "      <td>6.4</td>\n",
       "      <td>14.8</td>\n",
       "    </tr>\n",
       "    <tr>\n",
       "      <th>198</th>\n",
       "      <td>283.6</td>\n",
       "      <td>42.0</td>\n",
       "      <td>66.2</td>\n",
       "      <td>25.5</td>\n",
       "    </tr>\n",
       "    <tr>\n",
       "      <th>199</th>\n",
       "      <td>232.1</td>\n",
       "      <td>8.6</td>\n",
       "      <td>8.7</td>\n",
       "      <td>18.4</td>\n",
       "    </tr>\n",
       "  </tbody>\n",
       "</table>\n",
       "<p>200 rows × 4 columns</p>\n",
       "</div>"
      ],
      "text/plain": [
       "        TV  Radio  Newspaper  Sales\n",
       "0    230.1   37.8       69.2   22.1\n",
       "1     44.5   39.3       45.1   10.4\n",
       "2     17.2   45.9       69.3   12.0\n",
       "3    151.5   41.3       58.5   16.5\n",
       "4    180.8   10.8       58.4   17.9\n",
       "..     ...    ...        ...    ...\n",
       "195   38.2    3.7       13.8    7.6\n",
       "196   94.2    4.9        8.1   14.0\n",
       "197  177.0    9.3        6.4   14.8\n",
       "198  283.6   42.0       66.2   25.5\n",
       "199  232.1    8.6        8.7   18.4\n",
       "\n",
       "[200 rows x 4 columns]"
      ]
     },
     "execution_count": 72,
     "metadata": {},
     "output_type": "execute_result"
    }
   ],
   "source": [
    "df=pd.read_csv(\"advertising.csv\")\n",
    "df"
   ]
  },
  {
   "cell_type": "code",
   "execution_count": 73,
   "id": "fc198a34",
   "metadata": {},
   "outputs": [
    {
     "data": {
      "text/plain": [
       "(200, 4)"
      ]
     },
     "execution_count": 73,
     "metadata": {},
     "output_type": "execute_result"
    }
   ],
   "source": [
    "df.shape"
   ]
  },
  {
   "cell_type": "code",
   "execution_count": 74,
   "id": "8ff85f01",
   "metadata": {},
   "outputs": [
    {
     "data": {
      "text/plain": [
       "Index(['TV', 'Radio', 'Newspaper', 'Sales'], dtype='object')"
      ]
     },
     "execution_count": 74,
     "metadata": {},
     "output_type": "execute_result"
    }
   ],
   "source": [
    "df.columns"
   ]
  },
  {
   "cell_type": "code",
   "execution_count": 75,
   "id": "53218e14",
   "metadata": {},
   "outputs": [
    {
     "data": {
      "text/plain": [
       "TV           0\n",
       "Radio        0\n",
       "Newspaper    0\n",
       "Sales        0\n",
       "dtype: int64"
      ]
     },
     "execution_count": 75,
     "metadata": {},
     "output_type": "execute_result"
    }
   ],
   "source": [
    "df.isnull().sum()"
   ]
  },
  {
   "cell_type": "code",
   "execution_count": 76,
   "id": "68e32fc6",
   "metadata": {},
   "outputs": [
    {
     "name": "stdout",
     "output_type": "stream",
     "text": [
      "<class 'pandas.core.frame.DataFrame'>\n",
      "RangeIndex: 200 entries, 0 to 199\n",
      "Data columns (total 4 columns):\n",
      " #   Column     Non-Null Count  Dtype  \n",
      "---  ------     --------------  -----  \n",
      " 0   TV         200 non-null    float64\n",
      " 1   Radio      200 non-null    float64\n",
      " 2   Newspaper  200 non-null    float64\n",
      " 3   Sales      200 non-null    float64\n",
      "dtypes: float64(4)\n",
      "memory usage: 6.4 KB\n"
     ]
    }
   ],
   "source": [
    "df.info()"
   ]
  },
  {
   "cell_type": "code",
   "execution_count": 77,
   "id": "9e1ae683",
   "metadata": {},
   "outputs": [
    {
     "data": {
      "text/html": [
       "<div>\n",
       "<style scoped>\n",
       "    .dataframe tbody tr th:only-of-type {\n",
       "        vertical-align: middle;\n",
       "    }\n",
       "\n",
       "    .dataframe tbody tr th {\n",
       "        vertical-align: top;\n",
       "    }\n",
       "\n",
       "    .dataframe thead th {\n",
       "        text-align: right;\n",
       "    }\n",
       "</style>\n",
       "<table border=\"1\" class=\"dataframe\">\n",
       "  <thead>\n",
       "    <tr style=\"text-align: right;\">\n",
       "      <th></th>\n",
       "      <th>TV</th>\n",
       "      <th>Radio</th>\n",
       "      <th>Newspaper</th>\n",
       "      <th>Sales</th>\n",
       "    </tr>\n",
       "  </thead>\n",
       "  <tbody>\n",
       "    <tr>\n",
       "      <th>count</th>\n",
       "      <td>200.000000</td>\n",
       "      <td>200.000000</td>\n",
       "      <td>200.000000</td>\n",
       "      <td>200.000000</td>\n",
       "    </tr>\n",
       "    <tr>\n",
       "      <th>mean</th>\n",
       "      <td>147.042500</td>\n",
       "      <td>23.264000</td>\n",
       "      <td>30.554000</td>\n",
       "      <td>15.130500</td>\n",
       "    </tr>\n",
       "    <tr>\n",
       "      <th>std</th>\n",
       "      <td>85.854236</td>\n",
       "      <td>14.846809</td>\n",
       "      <td>21.778621</td>\n",
       "      <td>5.283892</td>\n",
       "    </tr>\n",
       "    <tr>\n",
       "      <th>min</th>\n",
       "      <td>0.700000</td>\n",
       "      <td>0.000000</td>\n",
       "      <td>0.300000</td>\n",
       "      <td>1.600000</td>\n",
       "    </tr>\n",
       "    <tr>\n",
       "      <th>25%</th>\n",
       "      <td>74.375000</td>\n",
       "      <td>9.975000</td>\n",
       "      <td>12.750000</td>\n",
       "      <td>11.000000</td>\n",
       "    </tr>\n",
       "    <tr>\n",
       "      <th>50%</th>\n",
       "      <td>149.750000</td>\n",
       "      <td>22.900000</td>\n",
       "      <td>25.750000</td>\n",
       "      <td>16.000000</td>\n",
       "    </tr>\n",
       "    <tr>\n",
       "      <th>75%</th>\n",
       "      <td>218.825000</td>\n",
       "      <td>36.525000</td>\n",
       "      <td>45.100000</td>\n",
       "      <td>19.050000</td>\n",
       "    </tr>\n",
       "    <tr>\n",
       "      <th>max</th>\n",
       "      <td>296.400000</td>\n",
       "      <td>49.600000</td>\n",
       "      <td>114.000000</td>\n",
       "      <td>27.000000</td>\n",
       "    </tr>\n",
       "  </tbody>\n",
       "</table>\n",
       "</div>"
      ],
      "text/plain": [
       "               TV       Radio   Newspaper       Sales\n",
       "count  200.000000  200.000000  200.000000  200.000000\n",
       "mean   147.042500   23.264000   30.554000   15.130500\n",
       "std     85.854236   14.846809   21.778621    5.283892\n",
       "min      0.700000    0.000000    0.300000    1.600000\n",
       "25%     74.375000    9.975000   12.750000   11.000000\n",
       "50%    149.750000   22.900000   25.750000   16.000000\n",
       "75%    218.825000   36.525000   45.100000   19.050000\n",
       "max    296.400000   49.600000  114.000000   27.000000"
      ]
     },
     "execution_count": 77,
     "metadata": {},
     "output_type": "execute_result"
    }
   ],
   "source": [
    "df.describe()"
   ]
  },
  {
   "cell_type": "code",
   "execution_count": 78,
   "id": "0e969a0d",
   "metadata": {},
   "outputs": [],
   "source": [
    "X=df.iloc[:,0:3]\n",
    "Y=df.iloc[:,3]"
   ]
  },
  {
   "cell_type": "code",
   "execution_count": 79,
   "id": "c768cc24",
   "metadata": {},
   "outputs": [
    {
     "data": {
      "text/html": [
       "<div>\n",
       "<style scoped>\n",
       "    .dataframe tbody tr th:only-of-type {\n",
       "        vertical-align: middle;\n",
       "    }\n",
       "\n",
       "    .dataframe tbody tr th {\n",
       "        vertical-align: top;\n",
       "    }\n",
       "\n",
       "    .dataframe thead th {\n",
       "        text-align: right;\n",
       "    }\n",
       "</style>\n",
       "<table border=\"1\" class=\"dataframe\">\n",
       "  <thead>\n",
       "    <tr style=\"text-align: right;\">\n",
       "      <th></th>\n",
       "      <th>TV</th>\n",
       "      <th>Radio</th>\n",
       "      <th>Newspaper</th>\n",
       "    </tr>\n",
       "  </thead>\n",
       "  <tbody>\n",
       "    <tr>\n",
       "      <th>0</th>\n",
       "      <td>230.1</td>\n",
       "      <td>37.8</td>\n",
       "      <td>69.2</td>\n",
       "    </tr>\n",
       "    <tr>\n",
       "      <th>1</th>\n",
       "      <td>44.5</td>\n",
       "      <td>39.3</td>\n",
       "      <td>45.1</td>\n",
       "    </tr>\n",
       "  </tbody>\n",
       "</table>\n",
       "</div>"
      ],
      "text/plain": [
       "      TV  Radio  Newspaper\n",
       "0  230.1   37.8       69.2\n",
       "1   44.5   39.3       45.1"
      ]
     },
     "execution_count": 79,
     "metadata": {},
     "output_type": "execute_result"
    }
   ],
   "source": [
    "X.head(2)"
   ]
  },
  {
   "cell_type": "code",
   "execution_count": 80,
   "id": "27689c06",
   "metadata": {},
   "outputs": [
    {
     "data": {
      "text/plain": [
       "0    22.1\n",
       "1    10.4\n",
       "2    12.0\n",
       "Name: Sales, dtype: float64"
      ]
     },
     "execution_count": 80,
     "metadata": {},
     "output_type": "execute_result"
    }
   ],
   "source": [
    "Y.head(3)"
   ]
  },
  {
   "cell_type": "code",
   "execution_count": 81,
   "id": "e9ca24b1",
   "metadata": {},
   "outputs": [],
   "source": [
    "from sklearn.preprocessing import StandardScaler\n"
   ]
  },
  {
   "cell_type": "code",
   "execution_count": 82,
   "id": "98f1cac9",
   "metadata": {},
   "outputs": [],
   "source": [
    "from sklearn.compose import make_column_transformer\n",
    "transform_x=make_column_transformer((StandardScaler(),['TV', 'Radio', 'Newspaper']), remainder = 'passthrough')"
   ]
  },
  {
   "cell_type": "code",
   "execution_count": 83,
   "id": "a0532206",
   "metadata": {},
   "outputs": [
    {
     "data": {
      "text/plain": [
       "array([[ 9.69852266e-01,  9.81522472e-01,  1.77894547e+00],\n",
       "       [-1.19737623e+00,  1.08280781e+00,  6.69578760e-01],\n",
       "       [-1.51615499e+00,  1.52846331e+00,  1.78354865e+00],\n",
       "       [ 5.20496822e-02,  1.21785493e+00,  1.28640506e+00],\n",
       "       [ 3.94182198e-01, -8.41613655e-01,  1.28180188e+00],\n",
       "       [-1.61540845e+00,  1.73103399e+00,  2.04592999e+00],\n",
       "       [-1.04557682e+00,  6.43904671e-01, -3.24708413e-01],\n",
       "       [-3.13436589e-01, -2.47406325e-01, -8.72486994e-01],\n",
       "       [-1.61657614e+00, -1.42906863e+00, -1.36042422e+00],\n",
       "       [ 6.16042873e-01, -1.39530685e+00, -4.30581584e-01],\n",
       "       [-9.45155670e-01, -1.17923146e+00, -2.92486143e-01],\n",
       "       [ 7.90028350e-01,  4.96973404e-02, -1.22232878e+00],\n",
       "       [-1.43908760e+00,  7.99208859e-01,  1.62704048e+00],\n",
       "       [-5.78501712e-01, -1.05768905e+00, -1.07502697e+00],\n",
       "       [ 6.66253447e-01,  6.50657027e-01,  7.11007392e-01],\n",
       "       [ 5.64664612e-01,  1.65000572e+00,  1.02862691e+00],\n",
       "       [-9.25304978e-01,  9.00494200e-01,  3.84117072e+00],\n",
       "       [ 1.56887609e+00,  1.10306488e+00,  1.16211917e+00],\n",
       "       [-9.08957349e-01, -1.86635121e-01, -5.64073843e-01],\n",
       "       [ 3.00679600e-03,  4.29449843e-02, -5.27248393e-01],\n",
       "       [ 8.33232798e-01,  2.99534513e-01,  1.05164281e+00],\n",
       "       [ 1.05509347e+00, -1.22649795e+00, -3.24708413e-01],\n",
       "       [-1.56286250e+00, -4.97243498e-01,  8.76721921e-01],\n",
       "       [ 9.48833887e-01, -4.29719938e-01, -2.00422516e-01],\n",
       "       [-9.89527805e-01, -7.20071247e-01, -5.64073843e-01],\n",
       "       [ 1.35285385e+00, -1.33453565e+00, -5.08835667e-01],\n",
       "       [-4.83714657e-02,  4.07572210e-01, -8.26455181e-01],\n",
       "       [ 1.08662104e+00, -4.43224650e-01, -3.52327501e-01],\n",
       "       [ 1.18820988e+00,  2.59020377e-01, -3.52327501e-01],\n",
       "       [-8.92609721e-01, -4.90491142e-01,  4.71641962e-01],\n",
       "       [ 1.70316018e+00,  3.40048650e-01,  5.82118314e-01],\n",
       "       [-3.98677796e-01, -3.95958157e-01,  3.70371972e-01],\n",
       "       [-5.82004775e-01, -1.46958277e+00, -2.55016247e-02],\n",
       "       [ 1.38438142e+00, -2.20396901e-01, -1.39264649e+00],\n",
       "       [-5.99520091e-01, -1.47633512e+00, -1.06582061e+00],\n",
       "       [ 1.67747105e+00, -1.29402151e+00, -1.01518562e+00],\n",
       "       [ 1.39956136e+00,  1.38666383e+00, -1.17629696e+00],\n",
       "       [-8.44734522e-01,  1.76479577e+00,  6.97197848e-01],\n",
       "       [-1.21372386e+00,  2.32010953e-01,  2.09260624e-01],\n",
       "       [ 9.45330823e-01,  9.74770116e-01,  6.65620024e-02],\n",
       "       [ 6.47570443e-01, -6.50927121e-02,  4.81492770e-02],\n",
       "       [ 3.49810063e-01,  6.84418807e-01,  3.74975153e-01],\n",
       "       [ 1.71133400e+00,  2.99534513e-01, -1.32359877e+00],\n",
       "       [ 6.98948705e-01, -1.00367020e+00, -1.91216154e-01],\n",
       "       [-1.42390765e+00,  1.64487393e-01,  5.86721496e-01],\n",
       "       [ 3.27623995e-01, -5.15880000e-02,  4.35460956e-02],\n",
       "       [-6.69581357e-01, -9.02384859e-01,  2.36879713e-01],\n",
       "       [ 1.08428567e+00,  1.23135965e+00, -5.54867481e-01],\n",
       "       [ 9.35989321e-01, -5.03995854e-01,  8.90531465e-01],\n",
       "       [-9.35814168e-01, -7.80842451e-01,  2.87514708e-01],\n",
       "       [ 6.16042873e-01, -1.36154507e+00,  1.86244718e-01],\n",
       "       [-5.44638766e-01, -9.22641928e-01, -1.24074150e+00],\n",
       "       [ 8.09879042e-01,  1.24486436e+00,  4.16403786e-01],\n",
       "       [ 4.15200577e-01,  1.54872038e+00,  1.29561142e+00],\n",
       "       [ 1.35051848e+00,  3.73810430e-01, -6.74550196e-01],\n",
       "       [ 6.05533683e-01,  1.76479577e+00,  1.35545278e+00],\n",
       "       [-1.63175608e+00,  3.26543937e-01,  4.99261050e-01],\n",
       "       [-1.26606546e-01, -2.74415749e-01, -6.42327927e-01],\n",
       "       [ 7.44488528e-01,  1.77830048e+00,  3.28943340e-01],\n",
       "       [ 7.43320840e-01,  4.21076922e-01, -9.78360166e-01],\n",
       "       [-1.09228433e+00, -1.43582099e+00, -4.21375221e-01],\n",
       "       [ 1.33417085e+00,  1.31238792e+00,  1.11148417e+00],\n",
       "       [ 1.07727954e+00, -5.24252922e-01, -1.49787521e-01],\n",
       "       [-5.17781948e-01,  4.27829278e-01, -1.01978880e+00],\n",
       "       [-1.86158622e-01,  1.31914027e+00, -7.61366196e-02],\n",
       "       [-9.11292725e-01, -9.42898996e-01, -1.36502740e+00],\n",
       "       [-1.34917564e+00,  9.02114765e-02, -1.30518604e+00],\n",
       "       [-9.04082253e-02, -5.91776482e-01, -9.36931533e-01],\n",
       "       [ 1.05509347e+00,  2.86029801e-01, -9.00106083e-01],\n",
       "       [ 8.14549794e-01,  1.39341619e+00, -1.54390703e-01],\n",
       "       [ 6.07869059e-01,  4.95352838e-01,  3.74975153e-01],\n",
       "       [-4.34876116e-01, -6.05281194e-01,  5.27524584e-02],\n",
       "       [-1.40405696e+00,  6.57409383e-01, -5.18042030e-01],\n",
       "       [-2.06009314e-01, -1.18598381e+00,  3.43397329e-02],\n",
       "       [ 7.74848409e-01,  9.02114765e-02, -8.03439274e-01],\n",
       "       [-1.51965805e+00,  1.37991148e+00,  2.70878810e+00],\n",
       "       [-1.39588315e+00, -1.46283041e+00, -4.53597491e-01],\n",
       "       [-3.09933525e-01,  3.53553362e-01, -7.52804279e-01],\n",
       "       [-1.65394214e+00,  4.48086346e-01, -9.73756984e-01],\n",
       "       [-3.62479475e-01, -1.05093669e+00, -3.43121138e-01],\n",
       "       [-8.24883830e-01,  2.32010953e-01, -3.79946589e-01],\n",
       "       [ 1.08311798e+00, -1.29402151e+00,  2.92117889e-01],\n",
       "       [-8.37728396e-01, -2.00139833e-01,  8.95779092e-02],\n",
       "       [-9.18298852e-01,  1.43393033e+00,  2.32276531e-01],\n",
       "       [ 7.76016097e-01,  1.33264499e+00,  1.49419267e-01],\n",
       "       [ 5.38975481e-01, -3.28434597e-01,  1.61783412e+00],\n",
       "       [-8.26051518e-01,  2.86029801e-01, -6.69947015e-01],\n",
       "       [-4.24366926e-01,  1.17058844e+00,  1.50275459e+00],\n",
       "       [-6.85928986e-01,  1.50982681e-01,  1.97227908e+00],\n",
       "       [-4.34876116e-01,  1.65675807e+00,  9.59579186e-01],\n",
       "       [-1.48792614e-01, -1.24000266e+00, -9.78360166e-01],\n",
       "       [-1.38303858e+00, -1.46958277e+00,  1.12593816e-01],\n",
       "       [ 8.25058983e-01,  6.91171163e-01,  1.30942097e+00],\n",
       "       [ 1.21273132e+00,  8.93741844e-01,  1.92164409e+00],\n",
       "       [-4.62900623e-01, -6.25538262e-01, -9.04709264e-01],\n",
       "       [ 1.89836839e-01,  5.62876398e-01,  1.02862691e+00],\n",
       "       [ 5.90353742e-01, -1.33453565e+00, -1.13486833e+00],\n",
       "       [ 4.42057396e-01, -1.52873340e-01, -3.93756133e-01],\n",
       "       [ 1.66579418e+00,  1.28537849e+00,  9.50372823e-01],\n",
       "       [-1.38283424e-01,  1.24486436e+00,  7.06404211e-01],\n",
       "       [ 8.79940308e-01, -1.28051680e+00,  8.85928284e-01],\n",
       "       [ 1.74402926e+00,  8.80237132e-01,  3.23815396e+00],\n",
       "       [ 1.55486384e+00, -8.88880147e-01, -4.21375221e-01],\n",
       "       [ 4.77088029e-01, -4.09462869e-01, -5.82486569e-01],\n",
       "       [ 1.06443498e+00,  7.45190011e-01, -1.16248742e+00],\n",
       "       [-1.06755854e-01,  1.56222509e+00,  1.30942097e+00],\n",
       "       [-1.42507534e+00, -8.28108943e-01, -3.93111688e-02],\n",
       "       [-6.61407543e-01, -1.55061104e+00, -3.38517957e-01],\n",
       "       [-1.56403019e+00, -1.54385868e+00, -2.28041604e-01],\n",
       "       [ 1.26527727e+00,  2.45515665e-01, -1.15328106e+00],\n",
       "       [ 9.19641692e-01, -1.01717491e+00,  1.19434143e+00],\n",
       "       [ 1.10530405e+00,  9.95027184e-01, -3.38517957e-01],\n",
       "       [ 3.34630122e-01, -5.31005278e-01, -1.29597968e+00],\n",
       "       [ 7.30476274e-01, -1.79882765e-01, -9.13915627e-01],\n",
       "       [-8.03865450e-01,  1.58923451e+00,  1.81641536e-01],\n",
       "       [-8.40063771e-01,  7.92456503e-01,  1.01942054e+00],\n",
       "       [-9.15759131e-02, -6.05281194e-01, -2.28041604e-01],\n",
       "       [-8.24883830e-01, -1.51684926e+00, -7.25185191e-01],\n",
       "       [-2.49213762e-01,  9.20751268e-01,  2.23926360e+00],\n",
       "       [-1.49046586e+00, -4.90491142e-01, -3.79946589e-01],\n",
       "       [-6.70544700e-02,  2.38763309e-01,  7.20213755e-01],\n",
       "       [-1.49747198e+00, -1.05606848e-01,  9.13547372e-01],\n",
       "       [ 8.98623313e-01, -1.40881156e+00, -6.88359740e-01],\n",
       "       [-2.79573643e-01,  7.65447079e-01, -8.35661544e-01],\n",
       "       [ 9.62846140e-01,  6.10142891e-01,  2.00910454e+00],\n",
       "       [-6.98773552e-01, -7.74090095e-01, -2.14232060e-01],\n",
       "       [-1.62591764e+00,  1.05579839e+00,  9.22753735e-01],\n",
       "       [-7.80511695e-01, -1.57086811e+00, -9.82963347e-01],\n",
       "       [ 8.55418865e-01,  1.73778635e+00, -1.25915423e+00],\n",
       "       [-1.02105537e+00, -7.60585383e-01,  5.77515133e-01],\n",
       "       [-1.70882347e+00,  1.10306488e+00, -1.00597925e+00],\n",
       "       [ 1.37971067e+00, -1.37504978e+00,  5.72911952e-01],\n",
       "       [-1.61891151e+00,  2.65772733e-01, -1.30978922e+00],\n",
       "       [ 8.49580427e-01,  6.91171163e-01,  6.69578760e-01],\n",
       "       [-1.28612050e+00,  1.03554132e+00,  1.61323094e+00],\n",
       "       [-1.15300409e+00,  1.60273923e+00, -1.01518562e+00],\n",
       "       [-1.41806922e+00,  1.06255074e+00, -9.78360166e-01],\n",
       "       [ 1.47896413e+00,  3.80562786e-01,  1.34164324e+00],\n",
       "       [-1.21489154e+00,  1.77992105e-01, -4.62803854e-01],\n",
       "       [ 4.42057396e-01,  1.39341619e+00, -1.32820195e+00],\n",
       "       [-8.59914463e-01, -4.22967582e-01, -8.12645637e-01],\n",
       "       [ 5.44813920e-01,  8.19465927e-01,  2.07354907e+00],\n",
       "       [ 8.57754241e-01,  6.70914095e-01,  3.38149702e-01],\n",
       "       [-4.95595880e-01, -1.18598381e+00,  1.77038355e-01],\n",
       "       [-5.93681653e-01, -5.71519414e-01,  3.84181516e-01],\n",
       "       [-7.87313476e-02, -1.44257334e+00, -9.92169710e-01],\n",
       "       [ 1.08662104e+00, -1.07794612e+00, -1.00597925e+00],\n",
       "       [ 1.12281936e+00,  1.73778635e+00,  6.32753309e-01],\n",
       "       [-1.27327593e+00,  1.15033137e+00, -8.58677450e-01],\n",
       "       [-1.19504085e+00,  1.71239749e-01, -4.58200672e-01],\n",
       "       [ 1.56070228e+00, -6.32290618e-01,  2.96721070e-01],\n",
       "       [-3.04095087e-01, -1.00367020e+00,  8.35293289e-01],\n",
       "       [ 5.90353742e-01,  2.43084817e-03, -7.52804279e-01],\n",
       "       [ 2.83251860e-01,  1.10981724e+00,  3.28943340e-01],\n",
       "       [ 4.75920341e-01, -1.46120984e-01, -9.69153803e-01],\n",
       "       [-1.66912209e+00, -7.87594807e-01, -1.14407469e+00],\n",
       "       [-6.20538471e-01,  1.36640677e+00,  9.18150553e-01],\n",
       "       [ 3.21989902e-02, -1.48308748e+00, -2.87882962e-01],\n",
       "       [-1.58037782e+00,  9.20751268e-01,  6.74181942e-01],\n",
       "       [-1.79152496e-01, -3.28434597e-01,  1.86244718e-01],\n",
       "       [ 2.97264113e-01, -3.48691665e-01,  6.72064478e-03],\n",
       "       [-7.16288868e-01,  8.46475352e-01,  8.62912377e-01],\n",
       "       [ 4.82926468e-01, -3.48691665e-01, -2.28041604e-01],\n",
       "       [ 1.92172214e-01,  9.13998912e-01, -1.06582061e+00],\n",
       "       [-3.48467222e-01, -5.78271770e-01, -1.15788424e+00],\n",
       "       [ 1.02123053e+00, -1.34128800e+00,  2.49704176e+00],\n",
       "       [-1.50798117e+00,  9.68017760e-01, -4.12168859e-01],\n",
       "       [ 6.97781017e-01, -1.21974559e+00, -5.13438849e-01],\n",
       "       [ 7.98202165e-01,  2.26879163e-02,  1.24497643e+00],\n",
       "       [ 1.60273904e+00, -8.55118367e-01, -1.11185242e+00],\n",
       "       [-1.13315340e+00, -7.87594807e-01, -5.59470662e-01],\n",
       "       [ 2.03849092e-01, -1.59625696e-01,  7.75451931e-01],\n",
       "       [-1.48813048e+00, -2.13644545e-01, -6.23915201e-01],\n",
       "       [ 2.49388915e-01, -1.09145083e+00, -8.17248818e-01],\n",
       "       [ 8.79940308e-01, -1.34128800e+00, -8.03439274e-01],\n",
       "       [ 1.51633014e+00,  1.73103399e+00,  5.17673775e-01],\n",
       "       [ 1.18353913e+00,  4.68343414e-01, -4.72010216e-01],\n",
       "       [ 2.70407294e-01, -1.04418434e+00,  2.13863806e-01],\n",
       "       [ 1.51399477e+00, -1.41556392e+00, -3.15502050e-01],\n",
       "       [ 2.16693657e-01, -8.95632503e-01, -5.96296113e-01],\n",
       "       [ 1.11601758e-01, -1.39530685e+00, -1.02439198e+00],\n",
       "       [ 8.34400486e-01, -1.20624088e+00, -1.45184340e-01],\n",
       "       [-1.06075676e+00, -1.18598381e+00, -3.93111688e-02],\n",
       "       [ 1.64127273e+00,  1.33264499e+00,  1.89862818e+00],\n",
       "       [ 1.24659427e+00, -1.32616272e-01, -2.55016247e-02],\n",
       "       [ 6.76762637e-01,  1.47444446e+00, -5.04232486e-01],\n",
       "       [-8.80728498e-02, -1.42906863e+00, -1.82009791e-01],\n",
       "       [ 5.14454038e-01,  3.67058074e-01, -5.68677025e-01],\n",
       "       [ 1.62258973e+00, -6.32290618e-01, -1.23613832e+00],\n",
       "       [-1.49863967e+00, -7.53833027e-01, -3.29311594e-01],\n",
       "       [-1.25576062e+00,  1.20435022e+00, -1.13947151e+00],\n",
       "       [-8.35393020e-01, -8.41613655e-01, -1.13026515e+00],\n",
       "       [-1.51615499e+00, -1.29402151e+00,  4.81492770e-02],\n",
       "       [ 2.30705910e-01,  1.26512143e+00, -1.24074150e+00],\n",
       "       [ 3.10313024e-02,  8.32970639e-01, -1.13026515e+00],\n",
       "       [-1.27094056e+00, -1.32103093e+00, -7.71217005e-01],\n",
       "       [-6.17035408e-01, -1.24000266e+00, -1.03359834e+00],\n",
       "       [ 3.49810063e-01, -9.42898996e-01, -1.11185242e+00],\n",
       "       [ 1.59456522e+00,  1.26512143e+00,  1.64085003e+00],\n",
       "       [ 9.93206022e-01, -9.90165488e-01, -1.00597925e+00]])"
      ]
     },
     "execution_count": 83,
     "metadata": {},
     "output_type": "execute_result"
    }
   ],
   "source": [
    "X=transform_x.fit_transform(X)\n",
    "X"
   ]
  },
  {
   "cell_type": "code",
   "execution_count": 84,
   "id": "6f4a5fbe",
   "metadata": {},
   "outputs": [],
   "source": [
    "# Y = np.array([Y])\n",
    "\n",
    "# # Create a StandardScaler instance\n",
    "# scaler = StandardScaler()\n",
    "\n",
    "# # Fit and transform your data\n",
    "# Y_scale = scaler.fit_transform(Y)"
   ]
  },
  {
   "cell_type": "code",
   "execution_count": 85,
   "id": "9baa4ca6",
   "metadata": {},
   "outputs": [
    {
     "data": {
      "text/plain": [
       "(200, 3)"
      ]
     },
     "execution_count": 85,
     "metadata": {},
     "output_type": "execute_result"
    }
   ],
   "source": [
    "X.shape"
   ]
  },
  {
   "cell_type": "code",
   "execution_count": 86,
   "id": "97473099",
   "metadata": {},
   "outputs": [
    {
     "data": {
      "text/plain": [
       "(200,)"
      ]
     },
     "execution_count": 86,
     "metadata": {},
     "output_type": "execute_result"
    }
   ],
   "source": [
    "Y.shape"
   ]
  },
  {
   "cell_type": "code",
   "execution_count": 87,
   "id": "d5190ab8",
   "metadata": {},
   "outputs": [],
   "source": [
    "train_x, test_x , train_y, test_y=train_test_split(X,Y,test_size=0.2, random_state=42)"
   ]
  },
  {
   "cell_type": "code",
   "execution_count": 88,
   "id": "e96ff7fa",
   "metadata": {},
   "outputs": [],
   "source": [
    "model=LinearRegression()"
   ]
  },
  {
   "cell_type": "code",
   "execution_count": 89,
   "id": "9f8a740f",
   "metadata": {},
   "outputs": [
    {
     "data": {
      "text/html": [
       "<style>#sk-container-id-2 {color: black;}#sk-container-id-2 pre{padding: 0;}#sk-container-id-2 div.sk-toggleable {background-color: white;}#sk-container-id-2 label.sk-toggleable__label {cursor: pointer;display: block;width: 100%;margin-bottom: 0;padding: 0.3em;box-sizing: border-box;text-align: center;}#sk-container-id-2 label.sk-toggleable__label-arrow:before {content: \"▸\";float: left;margin-right: 0.25em;color: #696969;}#sk-container-id-2 label.sk-toggleable__label-arrow:hover:before {color: black;}#sk-container-id-2 div.sk-estimator:hover label.sk-toggleable__label-arrow:before {color: black;}#sk-container-id-2 div.sk-toggleable__content {max-height: 0;max-width: 0;overflow: hidden;text-align: left;background-color: #f0f8ff;}#sk-container-id-2 div.sk-toggleable__content pre {margin: 0.2em;color: black;border-radius: 0.25em;background-color: #f0f8ff;}#sk-container-id-2 input.sk-toggleable__control:checked~div.sk-toggleable__content {max-height: 200px;max-width: 100%;overflow: auto;}#sk-container-id-2 input.sk-toggleable__control:checked~label.sk-toggleable__label-arrow:before {content: \"▾\";}#sk-container-id-2 div.sk-estimator input.sk-toggleable__control:checked~label.sk-toggleable__label {background-color: #d4ebff;}#sk-container-id-2 div.sk-label input.sk-toggleable__control:checked~label.sk-toggleable__label {background-color: #d4ebff;}#sk-container-id-2 input.sk-hidden--visually {border: 0;clip: rect(1px 1px 1px 1px);clip: rect(1px, 1px, 1px, 1px);height: 1px;margin: -1px;overflow: hidden;padding: 0;position: absolute;width: 1px;}#sk-container-id-2 div.sk-estimator {font-family: monospace;background-color: #f0f8ff;border: 1px dotted black;border-radius: 0.25em;box-sizing: border-box;margin-bottom: 0.5em;}#sk-container-id-2 div.sk-estimator:hover {background-color: #d4ebff;}#sk-container-id-2 div.sk-parallel-item::after {content: \"\";width: 100%;border-bottom: 1px solid gray;flex-grow: 1;}#sk-container-id-2 div.sk-label:hover label.sk-toggleable__label {background-color: #d4ebff;}#sk-container-id-2 div.sk-serial::before {content: \"\";position: absolute;border-left: 1px solid gray;box-sizing: border-box;top: 0;bottom: 0;left: 50%;z-index: 0;}#sk-container-id-2 div.sk-serial {display: flex;flex-direction: column;align-items: center;background-color: white;padding-right: 0.2em;padding-left: 0.2em;position: relative;}#sk-container-id-2 div.sk-item {position: relative;z-index: 1;}#sk-container-id-2 div.sk-parallel {display: flex;align-items: stretch;justify-content: center;background-color: white;position: relative;}#sk-container-id-2 div.sk-item::before, #sk-container-id-2 div.sk-parallel-item::before {content: \"\";position: absolute;border-left: 1px solid gray;box-sizing: border-box;top: 0;bottom: 0;left: 50%;z-index: -1;}#sk-container-id-2 div.sk-parallel-item {display: flex;flex-direction: column;z-index: 1;position: relative;background-color: white;}#sk-container-id-2 div.sk-parallel-item:first-child::after {align-self: flex-end;width: 50%;}#sk-container-id-2 div.sk-parallel-item:last-child::after {align-self: flex-start;width: 50%;}#sk-container-id-2 div.sk-parallel-item:only-child::after {width: 0;}#sk-container-id-2 div.sk-dashed-wrapped {border: 1px dashed gray;margin: 0 0.4em 0.5em 0.4em;box-sizing: border-box;padding-bottom: 0.4em;background-color: white;}#sk-container-id-2 div.sk-label label {font-family: monospace;font-weight: bold;display: inline-block;line-height: 1.2em;}#sk-container-id-2 div.sk-label-container {text-align: center;}#sk-container-id-2 div.sk-container {/* jupyter's `normalize.less` sets `[hidden] { display: none; }` but bootstrap.min.css set `[hidden] { display: none !important; }` so we also need the `!important` here to be able to override the default hidden behavior on the sphinx rendered scikit-learn.org. See: https://github.com/scikit-learn/scikit-learn/issues/21755 */display: inline-block !important;position: relative;}#sk-container-id-2 div.sk-text-repr-fallback {display: none;}</style><div id=\"sk-container-id-2\" class=\"sk-top-container\"><div class=\"sk-text-repr-fallback\"><pre>LinearRegression()</pre><b>In a Jupyter environment, please rerun this cell to show the HTML representation or trust the notebook. <br />On GitHub, the HTML representation is unable to render, please try loading this page with nbviewer.org.</b></div><div class=\"sk-container\" hidden><div class=\"sk-item\"><div class=\"sk-estimator sk-toggleable\"><input class=\"sk-toggleable__control sk-hidden--visually\" id=\"sk-estimator-id-2\" type=\"checkbox\" checked><label for=\"sk-estimator-id-2\" class=\"sk-toggleable__label sk-toggleable__label-arrow\">LinearRegression</label><div class=\"sk-toggleable__content\"><pre>LinearRegression()</pre></div></div></div></div></div>"
      ],
      "text/plain": [
       "LinearRegression()"
      ]
     },
     "execution_count": 89,
     "metadata": {},
     "output_type": "execute_result"
    }
   ],
   "source": [
    "model.fit(train_x,train_y)"
   ]
  },
  {
   "cell_type": "code",
   "execution_count": 90,
   "id": "d7671ec4",
   "metadata": {},
   "outputs": [
    {
     "data": {
      "text/plain": [
       "array([17.0347724 , 20.40974033, 23.72398873,  9.27278518, 21.68271879,\n",
       "       12.56940161, 21.08119452,  8.69035045, 17.23701254, 16.66657475,\n",
       "        8.92396497,  8.4817344 , 18.2075123 ,  8.06750728, 12.64550975,\n",
       "       14.93162809,  8.12814594, 17.89876565, 11.00880637, 20.47832788,\n",
       "       20.80631846, 12.59883297, 10.9051829 , 22.38854775,  9.41796094,\n",
       "        7.92506736, 20.83908497, 13.81520938, 10.77080925,  7.92682509,\n",
       "       15.95947357, 10.63490851, 20.80292008, 10.43434164, 21.5784752 ,\n",
       "       21.18364487, 12.12821771, 22.80953262, 12.60992766,  6.46441252])"
      ]
     },
     "execution_count": 90,
     "metadata": {},
     "output_type": "execute_result"
    }
   ],
   "source": [
    "y_pred=model.predict(test_x)\n",
    "y_pred"
   ]
  },
  {
   "cell_type": "code",
   "execution_count": 91,
   "id": "c4868841",
   "metadata": {},
   "outputs": [],
   "source": [
    "from sklearn.metrics import mean_squared_error, r2_score\n",
    "mse=mean_squared_error(test_y, y_pred)"
   ]
  },
  {
   "cell_type": "code",
   "execution_count": 92,
   "id": "f1576fab",
   "metadata": {},
   "outputs": [
    {
     "data": {
      "text/plain": [
       "2.9077569102710936"
      ]
     },
     "execution_count": 92,
     "metadata": {},
     "output_type": "execute_result"
    }
   ],
   "source": [
    "mse"
   ]
  },
  {
   "cell_type": "code",
   "execution_count": 93,
   "id": "2577fab0",
   "metadata": {},
   "outputs": [],
   "source": [
    "r2 = r2_score(test_y, y_pred)"
   ]
  },
  {
   "cell_type": "raw",
   "id": "19f64791",
   "metadata": {},
   "source": [
    "r2"
   ]
  },
  {
   "cell_type": "code",
   "execution_count": 94,
   "id": "6eb8b9db",
   "metadata": {},
   "outputs": [
    {
     "data": {
      "text/plain": [
       "0.9059011844150825"
      ]
     },
     "execution_count": 94,
     "metadata": {},
     "output_type": "execute_result"
    }
   ],
   "source": [
    "r2"
   ]
  },
  {
   "cell_type": "code",
   "execution_count": 95,
   "id": "0b528cec",
   "metadata": {},
   "outputs": [
    {
     "name": "stdout",
     "output_type": "stream",
     "text": [
      "Mean Squared Error: 2.91\n",
      "R-squared: 0.91\n"
     ]
    }
   ],
   "source": [
    "\n",
    "print(f\"Mean Squared Error: {mse:.2f}\")\n",
    "print(f\"R-squared: {r2:.2f}\")"
   ]
  },
  {
   "cell_type": "code",
   "execution_count": 96,
   "id": "818de426",
   "metadata": {},
   "outputs": [
    {
     "data": {
      "image/png": "[encoded data removed]",
      "text/plain": [
       "<Figure size 640x480 with 1 Axes>"
      ]
     },
     "metadata": {},
     "output_type": "display_data"
    }
   ],
   "source": [
    "plt.scatter(test_y, y_pred)\n",
    "plt.xlabel(\"Actual Sales\")\n",
    "plt.ylabel(\"Predicted Sales\")\n",
    "plt.title(\"Actual vs. Predicted Sales\")\n",
    "plt.show()"
   ]
  },
  {
   "cell_type": "code",
   "execution_count": 97,
   "id": "0b26d4c1",
   "metadata": {},
   "outputs": [
    {
     "data": {
      "image/png": "[encoded data removed]",
      "text/plain": [
       "<Figure size 640x480 with 1 Axes>"
      ]
     },
     "metadata": {},
     "output_type": "display_data"
    }
   ],
   "source": [
    "# Create a histogram for actual sales (test_y)\n",
    "plt.hist(test_y, bins=20, color='blue', alpha=0.5, label='Actual Sales')\n",
    "plt.xlabel(\"Sales\")\n",
    "plt.ylabel(\"Frequency\")\n",
    "plt.title(\"Histogram of Actual Sales\")\n",
    "plt.legend()\n",
    "plt.show()"
   ]
  },
  {
   "cell_type": "code",
   "execution_count": 98,
   "id": "7da4ec83",
   "metadata": {},
   "outputs": [
    {
     "data": {
      "image/png": "[encoded data removed]",
      "text/plain": [
       "<Figure size 640x480 with 1 Axes>"
      ]
     },
     "metadata": {},
     "output_type": "display_data"
    }
   ],
   "source": [
    "# Create a histogram for predicted sales (y_pred)\n",
    "plt.hist(y_pred, bins=20, color='green', alpha=0.5, label='Predicted Sales')\n",
    "plt.xlabel(\"Sales\")\n",
    "plt.ylabel(\"Frequency\")\n",
    "plt.title(\"Histogram of Predicted Sales\")\n",
    "plt.legend()\n",
    "plt.show()"
   ]
  },
  {
   "cell_type": "code",
   "execution_count": 101,
   "id": "db3b3ef5",
   "metadata": {},
   "outputs": [
    {
     "name": "stdout",
     "output_type": "stream",
     "text": [
      "Predicted Sales: 925.1670796478178\n"
     ]
    },
    {
     "name": "stderr",
     "output_type": "stream",
     "text": [
      "C:\\Users\\Lenovo\\anaconda3\\Lib\\site-packages\\sklearn\\base.py:457: UserWarning: X has feature names, but LinearRegression was fitted without feature names\n",
      "  warnings.warn(\n"
     ]
    }
   ],
   "source": [
    "new_data = pd.DataFrame({\n",
    "    'TV': [190.2],\n",
    "    'Radio': [11.1],\n",
    "    'Newspaper': [58.2]\n",
    "})\n",
    "\n",
    "\n",
    "predicted_sales = model.predict(new_data)\n",
    "print(f'Predicted Sales: {predicted_sales[0]}')"
   ]
  },
  {
   "cell_type": "code",
   "execution_count": null,
   "id": "4a805027",
   "metadata": {},
   "outputs": [],
   "source": []
  }
 ],
 "metadata": {
  "kernelspec": {
   "display_name": "Python 3 (ipykernel)",
   "language": "python",
   "name": "python3"
  },
  "language_info": {
   "codemirror_mode": {
    "name": "ipython",
    "version": 3
   },
   "file_extension": ".py",
   "mimetype": "text/x-python",
   "name": "python",
   "nbconvert_exporter": "python",
   "pygments_lexer": "ipython3",
   "version": "3.11.4"
  }
 },
 "nbformat": 4,
 "nbformat_minor": 5
}
